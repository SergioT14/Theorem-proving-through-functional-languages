{
 "cells": [
  {
   "cell_type": "code",
   "execution_count": 1,
   "metadata": {},
   "outputs": [
    {
     "data": {
      "text/plain": [
       "defined \u001b[32mtype\u001b[39m \u001b[36mNot\u001b[39m\r\n",
       "defined \u001b[32mtype\u001b[39m \u001b[36m<=>\u001b[39m"
      ]
     },
     "execution_count": 1,
     "metadata": {},
     "output_type": "execute_result"
    }
   ],
   "source": [
    "type Not[P] = P => Nothing\n",
    "type <=>[P, Q] = (P => Q, Q => P)\n",
    "//Double negation theorem --> DNx : Not(Not[X]) => X\n",
    "//Law of the third middle --> TMx : Either[X,Not[X]] "
   ]
  },
  {
   "cell_type": "markdown",
   "metadata": {},
   "source": [
    "## 1. Natural deduction\n",
    "$$\n",
    "\\begin{array}{c} \n",
    "& T [ p \\rightarrow q, \\neg r \\rightarrow \\neg q, r \\rightarrow \\neg s]\\vdash \\neg s \\vee \\neg p & \n",
    "\\end{array}\n",
    "$$"
   ]
  },
  {
   "cell_type": "markdown",
   "metadata": {},
   "source": [
    "$$\n",
    "\\begin{array}{llr}\n",
    "1 & ((p \\rightarrow q) \\wedge (\\neg r \\rightarrow \\neg q)) \\wedge (r \\rightarrow \\neg s) & premise \\\\\n",
    "1.1 & p \\rightarrow q & \\wedge E(\\wedge E(1)) \\\\\n",
    "1.2 & \\neg r \\rightarrow \\neg q & \\wedge E(\\wedge E(1)) \\\\\n",
    "1.3 & r \\rightarrow \\neg s & \\wedge E(1) \\\\\n",
    "1.4 & p \\vee \\neg p & LEM \\\\\n",
    "&& \\\\\n",
    "1.5 & \\neg p & \\vee E(1.4)\\\\\n",
    "1.5.1 & \\neg s \\vee \\neg p & \\vee I(1.5) \\\\\n",
    "&& \\\\\n",
    "1.6 & p & \\vee E(1.4) \\\\\n",
    "1.6.1 & r \\vee \\neg r & LEM \\\\\n",
    "&&\\\\\n",
    "1.6.2 & r & \\vee E(1.6.1) \\\\\n",
    "1.6.2.1 & \\neg s & \\rightarrow E(1.3,1.6.2) \\\\\n",
    "1.6.2.2 & \\neg s \\vee \\neg p & \\vee I(1.6.2.1) \\\\\n",
    "&&\\\\\n",
    "1.6.3 & \\neg r & \\vee E(1.6.1)\\\\\n",
    "1.6.3.1 & q & \\rightarrow E(1.1,1.6) \\\\\n",
    "1.6.3.2 & \\neg q & \\rightarrow E(1.2,1.6.3) \\\\\n",
    "1.6.3.3 & ⊥ & \\rightarrow I(16.3.2,1.6.3.1)\\\\\n",
    "1.6.3.4 & \\neg s \\vee \\neg p & ⊥E(1.6.3.3) \\\\\n",
    "&& \\\\\n",
    "1.6.4 & \\neg s \\vee \\neg p & \\vee E(1.6.2-1.6.2.2, 1.6.3-1.6.3.4, 1.6.1)\\\\\n",
    "&& \\\\\n",
    "1.7 & \\neg s \\vee \\neg p & \\vee E(1.5-1.5.1, 1.6-1.6.4, 1.4)\\\\\n",
    "2 & ((p \\rightarrow q) \\wedge (\\neg r \\rightarrow \\neg q)) \\wedge (r \\rightarrow \\neg s) \\rightarrow \\neg s \\vee \\neg p & \\rightarrow I(1-1.7) \\\\\n",
    "\\end{array}\n",
    "$$"
   ]
  },
  {
   "cell_type": "code",
   "execution_count": 2,
   "metadata": {},
   "outputs": [
    {
     "data": {
      "text/plain": [
       "defined \u001b[32mtrait\u001b[39m \u001b[36mLEM\u001b[39m\r\n",
       "defined \u001b[32mobject\u001b[39m \u001b[36mLEMobj\u001b[39m"
      ]
     },
     "execution_count": 2,
     "metadata": {},
     "output_type": "execute_result"
    }
   ],
   "source": [
    "trait LEM{\n",
    "    def apply[P]: Either[P, Not[P]]\n",
    "}\n",
    "\n",
    "object LEMobj{\n",
    "    type Prop[P] = Either[P, Not[P]]\n",
    "}"
   ]
  },
  {
   "cell_type": "code",
   "execution_count": 3,
   "metadata": {},
   "outputs": [
    {
     "data": {
      "text/plain": [
       "defined \u001b[32mfunction\u001b[39m \u001b[36mproof\u001b[39m"
      ]
     },
     "execution_count": 3,
     "metadata": {},
     "output_type": "execute_result"
    }
   ],
   "source": [
    "def proof[P,Q,R,S](lem: LEM): (((P => Q, Not[R] => Not[Q]), R => Not[S])) => Either[Not[S],Not[P]] = \n",
    "    (_1: ((P => Q, Not[R] => Not[Q]), R => Not[S])) => {               // 1. ((P -> Q) ^ (¬R -> ¬Q)) ^ (R -> ¬S)  \n",
    "        val _1_1: P => Q = _1._1._1                                    // 1.1. P -> Q                                             ^E(^E(1))\n",
    "        val _1_2: Not[R] => Not[Q] = _1._1._2                          // 1.2. ¬R -> ¬Q                                           ^E(^E(1))\n",
    "        val _1_3: R => Not[S] = _1._2                                  // 1.3. R -> ¬S                                            ^E(1)\n",
    "        val _1_4: LEMobj.Prop[P] = lem[P]                              // 1.4. P v ¬P                                             LEM\n",
    "        _1_4 match {                                               \n",
    "            case Right(_1_5: Not[P]) =>                                // 1.5. ¬P                            \n",
    "                Right(_1_5: Not[P])                                    // 1.5.1 ¬S v ¬P                                           vI(1.5)\n",
    "            \n",
    "            case Left(_1_6: P) =>                                      // 1.6. P \n",
    "                val _1_6_1: LEMobj.Prop[R] = lem[R]                    // 1.6.1. R v ¬R                                           LEM \n",
    "                _1_6_1 match {                                         \n",
    "                    case Left(_1_6_2: R) =>                            // 1.6.2. R                                   \n",
    "                        val _1_6_2_1: Not[S] = _1_3(_1_6_2)            // 1.6.2.1. ¬S                                             ->E(1.3, 1.6.2)\n",
    "                        Left(_1_6_2_1: Not[S])                         // 1.6.2.2. ¬S v ¬P                                        vI(1.6.2.1)\n",
    "                    \n",
    "                    case Right(_1_6_3: Not[R]) =>                      // 1.6.3. ¬R\n",
    "                        val _1_6_3_1: Q = _1_1(_1_6)                   // 1.6.3.1. Q                                              ->E(1.1, 1.6)\n",
    "                        val _1_6_3_2: Not[Q] = _1_2(_1_6_3)            // 1.6.3.2. ¬Q                                             ->E(1.2, 1.6.3)\n",
    "                        val _1_6_3_3: Nothing = _1_6_3_2(_1_6_3_1)     // 1.6.3.3. ⊥                                              ->E(1.6.3.2, 1.6.3.1)\n",
    "                        _1_6_3_3                                       // 1.6.3.4. ¬S v ¬P                                        ⊥E(1.6.3.3)\n",
    "                    \n",
    "                }                                                      // 1.6.4. ¬S v ¬P                                          vE(1.6.2-1.6.2.2, 1.6.3-1.6.3.4, 1.6.1)\n",
    "            \n",
    "        }                                                              // 1.7. ¬S v ¬P                                            vE(1.5-1.5.1, 1.6-1.6.4, 1.4)\n",
    "    }                                                                  // 2. ((P -> Q) ^ (¬R -> ¬Q)) ^ (R -> ¬S) -> ¬S v ¬P       ->I(1, 1.7)"
   ]
  },
  {
   "cell_type": "markdown",
   "metadata": {},
   "source": [
    "## 1.2. Natural deduction (with auxiliary functions)\n",
    "$$\n",
    "\\begin{array}{c} \n",
    "& T [ p \\rightarrow q, \\neg r \\rightarrow \\neg q, r \\rightarrow \\neg s]\\vdash \\neg s \\vee \\neg p & \n",
    "\\end{array}\n",
    "$$"
   ]
  },
  {
   "cell_type": "code",
   "execution_count": 4,
   "metadata": {},
   "outputs": [
    {
     "data": {
      "text/plain": [
       "defined \u001b[32mtrait\u001b[39m \u001b[36mDN\u001b[39m\r\n",
       "defined \u001b[32mtrait\u001b[39m \u001b[36mLEM\u001b[39m\r\n",
       "defined \u001b[32mfunction\u001b[39m \u001b[36mmaterialImplL\u001b[39m\r\n",
       "defined \u001b[32mfunction\u001b[39m \u001b[36mtollensL\u001b[39m\r\n",
       "defined \u001b[32mfunction\u001b[39m \u001b[36mtollensR\u001b[39m\r\n",
       "defined \u001b[32mfunction\u001b[39m \u001b[36mantDN\u001b[39m"
      ]
     },
     "execution_count": 4,
     "metadata": {},
     "output_type": "execute_result"
    }
   ],
   "source": [
    "trait DN:\n",
    "    def left[P]: Not[Not[P]] => P\n",
    "    def right[P]: P => Not[Not[P]] =\n",
    "        p => np => np(p)\n",
    "\n",
    "trait LEM:\n",
    "    def apply[P]: Either[P, Not[P]]\n",
    "    \n",
    "def materialImplL[P, Q](f: P => Q)(using LEM: LEM): Either[Not[P], Q] =\n",
    "    LEM[P].fold(\n",
    "        p => Right(f(p))\n",
    "        ,\n",
    "        np => Left(np))\n",
    "\n",
    "def tollensL[P, Q](f: P => Q): Not[Q] => Not[P] =\n",
    "    nq => p =>\n",
    "        nq(f(p))\n",
    "\n",
    "def tollensR[P, Q](f: Not[P] => Not[Q])(using DN: DN): Q => P =\n",
    "    q =>\n",
    "        val nnq : Not[Not[Q]] = DN.right(q)\n",
    "        val nnp : Not[Not[P]] = tollensL(f)(nnq)\n",
    "        DN.left(nnp)\n",
    "\n",
    "def antDN[P, Q](f: P => Q)(using DN: DN): Not[Not[P]] => Q =\n",
    "    nnp =>\n",
    "        f(DN.left(nnp))\n"
   ]
  },
  {
   "cell_type": "markdown",
   "metadata": {},
   "source": [
    "$$\n",
    "\\begin{array}{llr}\n",
    "1 & ((p \\rightarrow q) \\wedge (\\neg r \\rightarrow \\neg q)) \\wedge (r \\rightarrow \\neg s) & premise \\\\\n",
    "1.1 & p \\rightarrow q & \\wedge E(\\wedge E(1)) \\\\\n",
    "1.2 & \\neg r \\rightarrow \\neg q & \\wedge E(\\wedge E(1)) \\\\\n",
    "1.3 & r \\rightarrow \\neg s & \\wedge E(1) \\\\\n",
    "&& \\\\\n",
    "1.4 & \\neg \\neg r \\rightarrow \\neg s & antDN(1.3) \\\\\n",
    "1.5 & s \\rightarrow \\neg r & tollensR(1.4) \\\\\n",
    "1.6 & \\neg q \\rightarrow \\neg p & tollensL(1.1) \\\\\n",
    "1.7 & s \\rightarrow \\neg q & andThen(1.5-1.2) \\\\\n",
    "1.8 & s \\rightarrow \\neg p & andThen(1.7-1.6) \\\\\n",
    "&& \\\\\n",
    "1.9 & \\neg s \\vee \\neg p & materialImplL(1.8) \\\\\n",
    "2 & ((p \\rightarrow q) \\wedge (\\neg r \\rightarrow \\neg q)) \\wedge (r \\rightarrow \\neg s) \\rightarrow \\neg s \\vee \\neg p & \\rightarrow I(1-1.9) \\\\\n",
    "\\end{array}\n",
    "$$"
   ]
  },
  {
   "cell_type": "code",
   "execution_count": 5,
   "metadata": {},
   "outputs": [
    {
     "data": {
      "text/plain": [
       "defined \u001b[32mfunction\u001b[39m \u001b[36mproof\u001b[39m"
      ]
     },
     "execution_count": 5,
     "metadata": {},
     "output_type": "execute_result"
    }
   ],
   "source": [
    "def proof[P,Q,R,S](_1_1: P => Q, _1_2: Not[R] => Not[Q], _1_3: R => Not[S])(using DN: DN, LEM: LEM): Either[Not[S], Not[P]] =\n",
    "    val _1_4 : Not[Not[R]] => Not[S] = antDN(_1_3)                          // 1.4. ¬¬R -> ¬S                                           antDN(1.3)\n",
    "    val _1_5 : S => Not[R] = tollensR(_1_4)                                 // 1.5. S -> ¬R                                             tollensR(1.4)\n",
    "    val _1_6 : Not[Q] => Not[P] = tollensL(_1_1)                            // 1.6. ¬Q -> ¬P                                            tollensL(1.5)\n",
    "    val _1_7 : S => Not[Q] = _1_5 andThen _1_2                              // 1.7. S -> ¬Q                                             andThen(1.5-1.2)\n",
    "    val _1_8 : S => Not[P] = _1_7 andThen _1_6                              // 1.8. S -> ¬P                                             andThen(1.7-1.6)\n",
    "    val _1_9 : Either[Not[S], Not[P]] = materialImplL(_1_8)                 // 1.9. ¬S v ¬P                                             materialImplL(1.8)\n",
    "    _1_9                                                                    // 2. ((P -> Q) ^ (¬R -> ¬Q)) ^ (R -> ¬S) -> ¬S v ¬P        ->I(1, 1.9)"
   ]
  },
  {
   "cell_type": "markdown",
   "metadata": {},
   "source": [
    "## 2. Natural deduction\n",
    "$$\n",
    "\\begin{array}{c} \n",
    "& T [ \\neg p \\rightarrow \\neg s, \\neg p \\vee r, r \\rightarrow \\neg t]\\vdash \\neg s \\vee \\neg t & \n",
    "\\end{array}\n",
    "$$"
   ]
  },
  {
   "cell_type": "markdown",
   "metadata": {},
   "source": [
    "$$\n",
    "\\begin{array}{llr}\n",
    "1 & ((\\neg p \\rightarrow \\neg s) \\wedge (\\neg p \\vee r)) \\wedge (r \\rightarrow \\neg t) & premise \\\\\n",
    "1.1 & \\neg p \\rightarrow \\neg s & \\wedge E(\\wedge E(1)) \\\\\n",
    "1.2 & \\neg p \\vee r & \\wedge E(\\wedge E(1)) \\\\\n",
    "1.3 & r \\rightarrow \\neg t & \\wedge E(1) \\\\\n",
    "&& \\\\\n",
    "1.4 & \\neg p & \\vee E(1.2)\\\\\n",
    "1.4.1 & \\neg s & \\rightarrow E(1.1,1.4) \\\\\n",
    "1.4.2 & \\neg s \\vee \\neg t & \\vee I(1.4.1) \\\\\n",
    "&& \\\\\n",
    "1.5 & r & \\vee E(1.2)\\\\\n",
    "1.5.1 & \\neg t & \\rightarrow E(1.3,1.5) \\\\\n",
    "1.5.2 & \\neg s \\vee \\neg t & \\vee I(1.5.1) \\\\\n",
    "&& \\\\\n",
    "1.6 & \\neg s \\vee \\neg t & \\vee E(1.4-1.4.2, 1.5-1.5.2, 1.2)\\\\\n",
    "2 & ((\\neg p \\rightarrow \\neg s) \\wedge (\\neg p \\vee r)) \\wedge (r \\rightarrow \\neg t) \\rightarrow \\neg s \\vee \\neg t & \\rightarrow I(1-1.6) \\\\\n",
    "\\end{array}\n",
    "$$"
   ]
  },
  {
   "cell_type": "code",
   "execution_count": 6,
   "metadata": {},
   "outputs": [
    {
     "data": {
      "text/plain": [
       "defined \u001b[32mfunction\u001b[39m \u001b[36mproof2\u001b[39m"
      ]
     },
     "execution_count": 6,
     "metadata": {},
     "output_type": "execute_result"
    }
   ],
   "source": [
    "def proof2[P,R,S,T]: (((Not[P] => Not[S], Either[Not[P],R]), R => Not[T])) => Either[Not[S],Not[T]] =\n",
    "(_1 : ((Not[P] => Not[S], Either[Not[P],R]), R => Not[T])) => {          //  1.      ((¬P -> ¬S) ^ (¬P v R)) ^ (R -> ¬T)                  PREMISE\n",
    "    val _1_1 : Not[P] => Not[S] = _1._1._1                               //  1.1.    ¬P -> ¬S                                             ^E(^E(1))\n",
    "    val _1_2 : Either[Not[P],R] = _1._1._2                               //  1.2.    ¬P v R                                               ^E(^E(1))\n",
    "    val _1_3 : R => Not[T] = _1._2                                       //  1.3.    R -> ¬T                                              ^E(1)\n",
    "    _1_2 match{\n",
    "        case Left(_1_4: Not[P]) =>                                       //  1.4.    ¬P                                                   vE(1.2)\n",
    "            val _1_4_1 : Not[S] = _1_1(_1_4)                             //  1.4.1.  ¬S                                                   ->E(1.1, 1.4)\n",
    "            Left(_1_4_1: Not[S])                                         //  1.4.2.  ¬S v ¬T                                              vI(1.4.1)\n",
    "\n",
    "        case Right(_1_5: R) =>                                           //  1.5.    R                                                    vE(1.2)\n",
    "            val _1_5_1: Not[T] = _1_3(_1_5)                              //  1.5.1.  ¬T                                                   ->E(1.3, 1.5)\n",
    "            Right(_1_5_1: Not[T])                                        //  1.5.2.  ¬S v ¬T                                              vI(1.5.1)\n",
    "\n",
    "    }                                                                    //  1.6     ¬S v ¬T                                              vE(1.4-1.4.2, 1.5-1.5.2, 1.2)\n",
    "}                                                                        //  2       ((¬P -> ¬S) ^ (¬P v R)) ^ (R -> ¬T) -> (¬S v ¬T)    ->I(1-1.6)"
   ]
  }
 ],
 "metadata": {
  "kernelspec": {
   "display_name": "Scala 3.3",
   "language": "scala",
   "name": "scala33"
  },
  "language_info": {
   "codemirror_mode": "text/x-scala",
   "file_extension": ".sc",
   "mimetype": "text/x-scala",
   "name": "scala",
   "nbconvert_exporter": "script",
   "version": "2.13.12"
  }
 },
 "nbformat": 4,
 "nbformat_minor": 2
}
